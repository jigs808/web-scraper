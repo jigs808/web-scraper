{
 "cells": [
  {
   "cell_type": "code",
   "execution_count": 1,
   "metadata": {},
   "outputs": [],
   "source": [
    "import json\n",
    "import requests\n",
    "\n",
    "from bs4 import BeautifulSoup"
   ]
  },
  {
   "cell_type": "code",
   "execution_count": null,
   "metadata": {},
   "outputs": [],
   "source": []
  },
  {
   "cell_type": "code",
   "execution_count": 2,
   "metadata": {},
   "outputs": [],
   "source": [
    "with open(\"sample.json\") as file:\n",
    "    links = json.load(file)"
   ]
  },
  {
   "cell_type": "code",
   "execution_count": 8,
   "metadata": {},
   "outputs": [],
   "source": [
    "RestaurantDetails = []\n",
    "for link_num in range(len(links)):\n",
    "    response = requests.get(links[link_num])    \n",
    "    soup = BeautifulSoup(response.content, 'html.parser')\n",
    "    name = soup.find('h1')\n",
    "    restaurant_name = name.text.split('\\xa0')[0][:-2]\n",
    "    logo = soup.select('img')    \n",
    "    restaurant_logo = logo[1]['src']\n",
    "    tags = soup.select('p')\n",
    "    cuisine_tags = tags[0].text.split(',')\n",
    "    all_script = soup.find('script', {\"type\":\"application/json\"})\n",
    "    oJson = json.loads(all_script.string)\n",
    "    latitude = oJson['props']['pageProps']['initialMenuState']['restaurant']['latitude']# latitude\n",
    "    longitude = oJson['props']['pageProps']['initialMenuState']['restaurant']['longitude']# longitude\n",
    "    \n",
    "    RestaurantDetails.append( {\"restaurant_name\":restaurant_name,\n",
    "                     \"restaurant_logo\":restaurant_logo,\n",
    "                     \"cuisine_tags\":cuisine_tags,\n",
    "                     \"longitude\":longitude,\n",
    "                     \"latitude\":longitude,\n",
    "                     \"menu_items\":[]\n",
    "                    })\n",
    "    menuData = oJson['props']['pageProps']['initialMenuState']['menuData']['items']\n",
    "    for num in range(len(menuData)): # menu_items done\n",
    "        RestaurantDetails[link_num][\"menu_items\"].append({\n",
    "            \"item_name\":menuData[num]['name'],\n",
    "            \"item_description\":menuData[num]['description'],\n",
    "            \"item_price\":menuData[num]['price'],\n",
    "            \"item_image\":menuData[num]['image']\n",
    "        })"
   ]
  },
  {
   "cell_type": "code",
   "execution_count": 9,
   "metadata": {},
   "outputs": [],
   "source": [
    "with open ('RestaurantDetails.json', 'w') as file:\n",
    "    json.dump(RestaurantDetails, file , indent=4)\n"
   ]
  },
  {
   "cell_type": "code",
   "execution_count": null,
   "metadata": {},
   "outputs": [],
   "source": []
  },
  {
   "cell_type": "code",
   "execution_count": null,
   "metadata": {},
   "outputs": [],
   "source": []
  }
 ],
 "metadata": {
  "kernelspec": {
   "display_name": "Python 3",
   "language": "python",
   "name": "python3"
  },
  "language_info": {
   "codemirror_mode": {
    "name": "ipython",
    "version": 3
   },
   "file_extension": ".py",
   "mimetype": "text/x-python",
   "name": "python",
   "nbconvert_exporter": "python",
   "pygments_lexer": "ipython3",
   "version": "3.8.5"
  }
 },
 "nbformat": 4,
 "nbformat_minor": 4
}
